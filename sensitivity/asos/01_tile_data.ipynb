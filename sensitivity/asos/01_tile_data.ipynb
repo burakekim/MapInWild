{
 "cells": [
  {
   "cell_type": "markdown",
   "id": "5ab9467d",
   "metadata": {},
   "source": [
    "# Tile Data\n",
    "\n",
    "## Imports"
   ]
  },
  {
   "cell_type": "code",
   "execution_count": null,
   "id": "597c6c46",
   "metadata": {},
   "outputs": [],
   "source": [
    "import os\n",
    "\n",
    "from tlib import tgeo, tutils\n",
    "from tlib.tgeo import tgdal\n",
    "from asos import settings\n",
    "\n",
    "%load_ext autoreload\n",
    "%autoreload 2"
   ]
  },
  {
   "cell_type": "markdown",
   "id": "935465c4",
   "metadata": {},
   "source": [
    "## Get Files"
   ]
  },
  {
   "cell_type": "code",
   "execution_count": null,
   "id": "b21c8429",
   "metadata": {},
   "outputs": [],
   "source": [
    "# get all files from given mask folder\n",
    "files = tutils.files.files_from_folder(\n",
    "    folder=os.path.join(settings.data_folder_raw, 'mask'),\n",
    "    whole_path=True,\n",
    "    regex_filter='.tif'\n",
    ")\n",
    "print(len(files))"
   ]
  },
  {
   "cell_type": "markdown",
   "id": "f30e892e",
   "metadata": {},
   "source": [
    "## Find Tile Positions"
   ]
  },
  {
   "cell_type": "code",
   "execution_count": null,
   "id": "b9482407",
   "metadata": {
    "tags": []
   },
   "outputs": [],
   "source": [
    "def get_mask(file, wdpa):    \n",
    "    mask = tgeo.geotif.get_array(file=file, transpose=True)\n",
    "    mask = mask.astype(bool)  # masks have values 0, 1, 2 and 3; with this operation 0 becomes False and the other values become True\n",
    "    return mask if wdpa else ~mask\n",
    "\n",
    "\n",
    "for wdpa in [True, False]:\n",
    "    tgeo.tiling.run_tiling(\n",
    "        files=files,\n",
    "        output_folder=tutils.files.join_paths(settings.working_folder, str(wdpa)),\n",
    "        tile_dims=(256, 256),\n",
    "        overlap=None,\n",
    "        step_size=8,\n",
    "        get_mask=lambda file: get_mask(file=file, wdpa=wdpa),\n",
    "    )"
   ]
  },
  {
   "cell_type": "markdown",
   "id": "19e49766-b163-4279-83eb-d80ce5ed0dfd",
   "metadata": {},
   "source": [
    "## GDAL Tiling"
   ]
  },
  {
   "cell_type": "code",
   "execution_count": null,
   "id": "b2666ee8-016e-4694-8181-6972a51b95b9",
   "metadata": {},
   "outputs": [],
   "source": [
    "output_folder = '/media/timo/My Book/mapinwild_tiles'\n",
    "\n",
    "for wdpa in ['True', 'False']:\n",
    "    tgdal.utils.tile_using_tile_positions(\n",
    "        tile_positions_file=os.path.join(settings.working_folder, wdpa, 'tile_positions.npy'),\n",
    "        image_folder_names=['ESA_WC', 'mask', 'NIIR', 's2_autumn', 's2_spring', 's2_summer', 's2_winter', 'S1'],\n",
    "        output_folder=tutils.files.join_paths(output_folder, wdpa),\n",
    "    )"
   ]
  },
  {
   "cell_type": "code",
   "execution_count": null,
   "id": "2aaedac3-f966-47c4-bd6c-fe82414cd301",
   "metadata": {},
   "outputs": [],
   "source": []
  }
 ],
 "metadata": {
  "interpreter": {
   "hash": "7a647219ad76a4dab658591044ec574d490946214284d0d14854c651d5a2c688"
  },
  "kernelspec": {
   "display_name": "Python 3 (ipykernel)",
   "language": "python",
   "name": "python3"
  },
  "language_info": {
   "codemirror_mode": {
    "name": "ipython",
    "version": 3
   },
   "file_extension": ".py",
   "mimetype": "text/x-python",
   "name": "python",
   "nbconvert_exporter": "python",
   "pygments_lexer": "ipython3",
   "version": "3.9.12"
  }
 },
 "nbformat": 4,
 "nbformat_minor": 5
}

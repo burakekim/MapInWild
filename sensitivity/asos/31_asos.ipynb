{
 "cells": [
  {
   "cell_type": "markdown",
   "metadata": {},
   "source": [
    "# ASOS\n",
    "## Imports"
   ]
  },
  {
   "cell_type": "code",
   "execution_count": null,
   "metadata": {},
   "outputs": [],
   "source": [
    "import random\n",
    "\n",
    "import matplotlib.pyplot as plt\n",
    "\n",
    "from tlib import tlearn\n",
    "from asos import settings, utils\n",
    "\n",
    "%load_ext autoreload\n",
    "%autoreload 2"
   ]
  },
  {
   "cell_type": "code",
   "execution_count": null,
   "metadata": {},
   "outputs": [],
   "source": [
    "file_infos = settings.load_file_infos().df"
   ]
  },
  {
   "cell_type": "markdown",
   "metadata": {},
   "source": [
    "## Setup ASOS"
   ]
  },
  {
   "cell_type": "code",
   "execution_count": null,
   "metadata": {},
   "outputs": [],
   "source": [
    "# setup asos performer\n",
    "dims = utils.load_model().hparams['n_unet_maps']\n",
    "use_hypercube = True  # hypercube method (True) or expectation maximization (False)\n",
    "\n",
    "if use_hypercube:\n",
    "    if dims == 1:\n",
    "        asos = tlearn.interpret.asos.ASOSPerformer1d(ax_range=(-1, 1), output_folder=settings.working_folder)\n",
    "    elif dims == 2:\n",
    "        asos = tlearn.interpret.asos.ASOSPerformer2d(ax_range=(-1, 1), output_folder=settings.working_folder)\n",
    "    elif dims == 3:\n",
    "        asos = tlearn.interpret.asos.ASOSPerformer3d(ax_range=(-1, 1), output_folder=settings.working_folder)\n",
    "\n",
    "else:\n",
    "    if dims == 1:\n",
    "        asos = tlearn.interpret.asos.ASOSPerformerEM1d(ax_range=(-1, 1), output_folder=settings.working_folder)\n",
    "    elif dims == 2:\n",
    "        asos = tlearn.interpret.asos.ASOSPerformerEM2d(ax_range=(-1, 1), output_folder=settings.working_folder)\n",
    "    elif dims == 3:\n",
    "        asos = tlearn.interpret.asos.ASOSPerformerEM3d(ax_range=(-1, 1), output_folder=settings.working_folder)\n",
    "\n",
    "asos.save()  # save asos with pickle"
   ]
  },
  {
   "cell_type": "markdown",
   "metadata": {},
   "source": [
    "## Vectorization"
   ]
  },
  {
   "cell_type": "code",
   "execution_count": null,
   "metadata": {},
   "outputs": [],
   "source": [
    "# get unet maps\n",
    "files = file_infos[(file_infos['dataset'] == 'train') & (file_infos['true_pred'])].index.to_list()\n",
    "print(len(files))\n",
    "\n",
    "# get only a random fraction of unet maps\n",
    "frac_unet_maps = 0.15\n",
    "\n",
    "random_indices = random.sample(range(0, len(files)), int(len(files) * frac_unet_maps))\n",
    "files = [files[index] for index in random_indices]\n",
    "print(len(files))\n",
    "\n",
    "unet_maps = utils.predict(*files)\n",
    "\n",
    "# vectorize\n",
    "random_frac = 1/1000\n",
    "asos.vectorize(maps=unet_maps, map_ids=files, frame_size=10, random_frac=random_frac)\n",
    "asos.save()  # save asos with pickle\n",
    "\n",
    "del unet_maps"
   ]
  },
  {
   "cell_type": "code",
   "execution_count": null,
   "metadata": {},
   "outputs": [],
   "source": [
    "%matplotlib inline\n",
    "if asos.dims in [1, 2]:\n",
    "    asos.plot_chspace()\n",
    "    plt.show()"
   ]
  },
  {
   "cell_type": "code",
   "execution_count": null,
   "metadata": {},
   "outputs": [],
   "source": [
    "%matplotlib widget\n",
    "if asos.dims == 3:\n",
    "    asos.plot_chspace(colors='rgb')  # colors=None to not color vectors in rgb\n",
    "    plt.show()"
   ]
  },
  {
   "cell_type": "markdown",
   "metadata": {},
   "source": [
    "## Groups"
   ]
  },
  {
   "cell_type": "code",
   "execution_count": null,
   "metadata": {},
   "outputs": [],
   "source": [
    "# define groups\n",
    "if use_hypercube:\n",
    "    \n",
    "    edge_length = 2/10\n",
    "    consider_factor = 2\n",
    "    \n",
    "    asos.fit_groups(edge_length=edge_length, consider_factor=consider_factor)\n",
    "else:\n",
    "    asos.fit_groups(n_groups=3)\n",
    "\n",
    "asos.save()  # save asos with pickle"
   ]
  },
  {
   "cell_type": "code",
   "execution_count": null,
   "metadata": {},
   "outputs": [],
   "source": [
    "%matplotlib inline\n",
    "if asos.dims in [1, 2]:\n",
    "    asos.plot_chspace(colors='groups')\n",
    "    plt.show()"
   ]
  },
  {
   "cell_type": "code",
   "execution_count": null,
   "metadata": {},
   "outputs": [],
   "source": [
    "%matplotlib widget\n",
    "if asos.dims == 3:\n",
    "    asos.plot_chspace(colors='groups')\n",
    "    plt.show()"
   ]
  },
  {
   "cell_type": "markdown",
   "metadata": {},
   "source": [
    "## Sensitivities"
   ]
  },
  {
   "cell_type": "code",
   "execution_count": null,
   "metadata": {},
   "outputs": [],
   "source": [
    "# we cannot predict all unet-maps as follows at this point, because this would cause a memory overflow for the many training data:\n",
    "# files = file_infos[(file_infos['dataset'] == 'train') & (file_infos['true_pred'])].index.to_list()\n",
    "# unet_maps = utils.predict(*files)\n",
    "# instead we define an object, that behaves like a list using __getitem__:\n",
    "\n",
    "class UNetMaps:\n",
    "    def __init__(self):\n",
    "        self.dataset = settings.load_datamodule(setup_stage='fit', cutmix=None).train_dataset\n",
    "        self.unet = utils.load_model().unet\n",
    "    \n",
    "    def __getitem__(self, index):\n",
    "        x = self.dataset[index]['x']\n",
    "        unet_map = self.unet(x.unsqueeze(0)).detach().cpu()[0]\n",
    "        return unet_map\n",
    "    \n",
    "    def __len__(self):\n",
    "        return len(self.dataset)\n",
    "\n",
    "unet_maps = UNetMaps()"
   ]
  },
  {
   "cell_type": "code",
   "execution_count": null,
   "metadata": {},
   "outputs": [],
   "source": [
    "%matplotlib inline\n",
    "\n",
    "# get model\n",
    "model = utils.load_model().classify_unet_map\n",
    "\n",
    "# fit sensitivities\n",
    "#asos.fit_sensitivities(maps=unet_maps, model=model, fill_value=0, move_data_to_gpu=True)\n",
    "asos.fit_sensitivities(maps=unet_maps, model=model, fill_value=0, move_data_to_gpu=True)\n",
    "asos.save()  # save asos with pickle"
   ]
  },
  {
   "cell_type": "code",
   "execution_count": null,
   "metadata": {},
   "outputs": [],
   "source": [
    "# adapt valid deviations\n",
    "\n",
    "min_n_occluded_pixels = 100\n",
    "q = 0.05\n",
    "    \n",
    "# only those deviations are taken for further calculations that were calculated from at least min_n_occluded_pixels when occluding a map\n",
    "asos.adapt_valid_deviations(min_n_occluded_pixels=min_n_occluded_pixels)\n",
    "\n",
    "asos.set_vlim(q=q)\n",
    "asos.save()  # save asos with pickle"
   ]
  },
  {
   "cell_type": "code",
   "execution_count": null,
   "metadata": {},
   "outputs": [],
   "source": [
    "%matplotlib inline\n",
    "asos.plot_histograms()"
   ]
  },
  {
   "cell_type": "code",
   "execution_count": null,
   "metadata": {},
   "outputs": [],
   "source": [
    "%matplotlib inline\n",
    "if asos.dims in [1, 2]:\n",
    "    asos.plot_chspace(colors='sensitivities')\n",
    "    plt.show()"
   ]
  },
  {
   "cell_type": "code",
   "execution_count": null,
   "metadata": {},
   "outputs": [],
   "source": [
    "%matplotlib widget\n",
    "if asos.dims == 3:\n",
    "    asos.plot_chspace(colors='sensitivities')\n",
    "    plt.show()"
   ]
  },
  {
   "cell_type": "code",
   "execution_count": null,
   "metadata": {},
   "outputs": [],
   "source": [
    "%matplotlib inline\n",
    "# plot sample\n",
    "index = 100\n",
    "sensitivity_map = asos.predict_sensitivities(unet_maps[index].unsqueeze(0))[0]\n",
    "asos.plot_sensitivity_map(sensitivity_map)\n",
    "plt.show()"
   ]
  },
  {
   "cell_type": "code",
   "execution_count": null,
   "metadata": {},
   "outputs": [],
   "source": []
  }
 ],
 "metadata": {
  "kernelspec": {
   "display_name": "Python 3 (ipykernel)",
   "language": "python",
   "name": "python3"
  },
  "language_info": {
   "codemirror_mode": {
    "name": "ipython",
    "version": 3
   },
   "file_extension": ".py",
   "mimetype": "text/x-python",
   "name": "python",
   "nbconvert_exporter": "python",
   "pygments_lexer": "ipython3",
   "version": "3.9.12"
  }
 },
 "nbformat": 4,
 "nbformat_minor": 4
}

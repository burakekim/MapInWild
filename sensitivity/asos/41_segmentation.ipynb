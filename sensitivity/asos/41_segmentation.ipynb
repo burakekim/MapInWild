{
 "cells": [
  {
   "cell_type": "markdown",
   "id": "d4c1d358-0e70-49cb-b780-54345d86ee0f",
   "metadata": {},
   "source": [
    "# Analyze Samples\n",
    "## Imports"
   ]
  },
  {
   "cell_type": "code",
   "execution_count": null,
   "id": "da168581",
   "metadata": {},
   "outputs": [],
   "source": [
    "import os\n",
    "import random\n",
    "\n",
    "import numpy as np\n",
    "import matplotlib.pyplot as plt\n",
    "import sklearn.metrics\n",
    "from tqdm.auto import tqdm\n",
    "\n",
    "from tlib import tgeo, tutils\n",
    "from asos import settings, utils\n",
    "\n",
    "%load_ext autoreload\n",
    "%autoreload 2"
   ]
  },
  {
   "cell_type": "markdown",
   "id": "d8b14243-ce82-420b-9212-983179d0d702",
   "metadata": {},
   "source": [
    "## Setup Files"
   ]
  },
  {
   "cell_type": "code",
   "execution_count": null,
   "id": "3268908d-be1b-4c24-ab4e-86ced5ed4ea8",
   "metadata": {},
   "outputs": [],
   "source": [
    "channel_indices = {'B2': 0, 'B3': 1, 'B4': 2, 'B5': 3, 'B6': 4, 'B7': 5, 'B8': 6, 'B8A': 7, 'B11': 8, 'B12': 9}"
   ]
  },
  {
   "cell_type": "markdown",
   "id": "3430a232-99b8-4731-a902-ab90292ef069",
   "metadata": {},
   "source": [
    "either files from dataset(s)..."
   ]
  },
  {
   "cell_type": "code",
   "execution_count": null,
   "id": "46d2bc36-21b7-442c-a15a-21129d33e42c",
   "metadata": {},
   "outputs": [],
   "source": [
    "datasets = ['test']\n",
    "\n",
    "csv = settings.load_file_infos()\n",
    "file_infos = csv.df\n",
    "file_infos = file_infos[file_infos['dataset'].isin(datasets)]\n",
    "print(len(file_infos))\n",
    "files = file_infos.index\n",
    "\n",
    "# edit file names\n",
    "files = list(files)\n",
    "files = ['/'.join(file.split('/')[1:]) for file in files]  # remove True / False folder in the beginning\n",
    "files = ['_'.join(file.split('_')[:-1]) + '.tif' for file in files]  # remove tile number in the end\n",
    "print(len(files))\n",
    "files = list(set(files))  # remove doubles\n",
    "print(f'# files: {len(files)}')\n",
    "files = [os.path.join(settings.data_folder_raw, file) for file in files]  # add file directory in front of files\n",
    "\n",
    "batch_size = 1"
   ]
  },
  {
   "cell_type": "markdown",
   "id": "fc86c081-3170-4de7-a0c3-fdf592c02ed0",
   "metadata": {},
   "source": [
    "... or specific file(s):"
   ]
  },
  {
   "cell_type": "code",
   "execution_count": null,
   "id": "50f354df-7999-4eb6-a796-d87035869983",
   "metadata": {},
   "outputs": [],
   "source": [
    "folder = settings.data_folder_investigative\n",
    "regex_filter = '.tif'  # e.g. '.tif', 'wdpa-Ia', ''wdpa-V_6926.tif'\n",
    "\n",
    "files = tutils.files.files_from_folder(folder, regex_filter=regex_filter, whole_path=True)\n",
    "print(f'# files: {len(files)}')\n",
    "\n",
    "batch_size = 1"
   ]
  },
  {
   "cell_type": "markdown",
   "id": "2b6bebf3-86d2-4d09-b80e-66798a1a239b",
   "metadata": {},
   "source": [
    "## Predict"
   ]
  },
  {
   "cell_type": "code",
   "execution_count": null,
   "id": "71537eb7-bf7c-45fc-a298-58a0b225be16",
   "metadata": {},
   "outputs": [],
   "source": [
    "threshold = 0  # 2e-6\n",
    "\n",
    "plot = False\n",
    "val_range = (0, 2**11)\n",
    "\n",
    "asos = utils.load_asos()\n",
    "\n",
    "all_seg_maps = []\n",
    "all_wdpa_masks = []\n",
    "files_sublists = tutils.lists.create_sublists(files, size=batch_size)\n",
    "for files_ in tqdm(files_sublists, desc='batch', disable=plot):\n",
    "    \n",
    "    # sensitivity maps\n",
    "    unet_maps = utils.predict(*files_, disable_tqdm=True)\n",
    "    sens_maps = asos.predict_sensitivities(unet_maps, disable_tqdm=True)\n",
    "    \n",
    "    # segmentation maps\n",
    "    seg_maps = np.ma.zeros(sens_maps.shape).astype(bool)  # same shape as sens_maps\n",
    "    seg_maps.mask = sens_maps.mask.copy()  # same mask as sens_maps\n",
    "    \n",
    "    seg_maps[sens_maps < 0] = False  # define segmentation\n",
    "    seg_maps[sens_maps > 0] = True  # define segmentation\n",
    "    \n",
    "    seg_maps.mask[np.abs(sens_maps) <= np.abs(threshold)] = True  # add masking according to given threshold\n",
    "    \n",
    "    # get wdpa masks\n",
    "    wdpa_masks = [tgeo.geotif.get_array(file=file) for file in utils.get_corresponding_files(files_, 'mask')]\n",
    "    wdpa_masks = np.vstack(wdpa_masks)\n",
    "    wdpa_masks = wdpa_masks.astype(bool)\n",
    "    wdpa_masks = np.ma.masked_array(wdpa_masks, mask=seg_maps.mask)  # same mask as seg_maps\n",
    "    \n",
    "    # plot\n",
    "    if plot:\n",
    "        for index in range(len(files_)):\n",
    "            fig, axs = plt.subplots(1, 4, figsize=(12, 3))\n",
    "\n",
    "            # s2 image\n",
    "            channels = (channel_indices['B2'], channel_indices['B3'], channel_indices['B4'])\n",
    "            tgeo.geotif.plot_image(file=files_[index], channels=channels, val_range=val_range, ax=axs[0])\n",
    "\n",
    "            # wdpa mask\n",
    "            axs[1].imshow(wdpa_masks.data[index], cmap=asos.cmap, clim=(0, 1))\n",
    "\n",
    "            # sensitivity map\n",
    "            cmax = np.quantile(np.abs(sens_maps[index]), 0.98)\n",
    "            axs[2].imshow(sens_maps[index], cmap=asos.cmap, clim=(-cmax, cmax))\n",
    "\n",
    "            # segmentation map\n",
    "            axs[3].imshow(seg_maps[index], cmap=asos.cmap, clim=(0, 1))\n",
    "\n",
    "            for ax in axs:\n",
    "                ax.axis(False)\n",
    "            fig.tight_layout()\n",
    "            plt.show()\n",
    "            \n",
    "    all_seg_maps.append(seg_maps)\n",
    "    all_wdpa_masks.append(wdpa_masks)\n",
    "all_seg_maps = np.ma.vstack(all_seg_maps)\n",
    "all_wdpa_masks = np.ma.vstack(all_wdpa_masks)\n",
    "\n",
    "seg_maps = all_seg_maps\n",
    "wdpa_masks = all_wdpa_masks"
   ]
  },
  {
   "cell_type": "markdown",
   "id": "1f37f10a-38ad-480f-befc-545b66c84e1a",
   "metadata": {},
   "source": [
    "## Metrics"
   ]
  },
  {
   "cell_type": "code",
   "execution_count": null,
   "id": "c2d95781-eff1-42f5-b916-5138bc70bb35",
   "metadata": {},
   "outputs": [],
   "source": [
    "n_unmasked_pixels = np.count_nonzero(~seg_maps.mask)\n",
    "print(f'unmaked pixels: {n_unmasked_pixels / seg_maps.size * 100:.1f} %')"
   ]
  },
  {
   "cell_type": "code",
   "execution_count": null,
   "id": "de496e08-0cb7-4fcd-8db3-04567d908d06",
   "metadata": {},
   "outputs": [],
   "source": [
    "# accuracy\n",
    "np.count_nonzero(seg_maps.data[~seg_maps.mask] == wdpa_masks.data[~wdpa_masks.mask]) / n_unmasked_pixels * 100"
   ]
  },
  {
   "cell_type": "code",
   "execution_count": null,
   "id": "7be81613-7add-4663-893d-f7cbf1208448",
   "metadata": {},
   "outputs": [],
   "source": [
    "# confusion matrix\n",
    "sklearn.metrics.confusion_matrix(\n",
    "    y_true=wdpa_masks.data[~wdpa_masks.mask], y_pred=seg_maps.data[~seg_maps.mask], normalize='all') * 100"
   ]
  },
  {
   "cell_type": "code",
   "execution_count": null,
   "id": "3d1ca4c0-9e8c-48a0-96f3-85892e304065",
   "metadata": {},
   "outputs": [],
   "source": [
    "# intersection over union\n",
    "iou_0 = np.count_nonzero((seg_maps == 0) & (wdpa_masks == 0)) / np.count_nonzero((seg_maps == 0) | (wdpa_masks == 0)) * 100\n",
    "iou_1 = np.count_nonzero((seg_maps == 1) & (wdpa_masks == 1)) / np.count_nonzero((seg_maps == 1) | (wdpa_masks == 1)) * 100\n",
    "\n",
    "print(\n",
    "    f'IoU 0: {iou_0:.1f} %\\n'\n",
    "    f'IoU 1: {iou_1:.1f} %'\n",
    ")"
   ]
  },
  {
   "cell_type": "code",
   "execution_count": null,
   "id": "f884b74c-4ceb-48aa-9e5a-ff78e59e2d26",
   "metadata": {},
   "outputs": [],
   "source": []
  }
 ],
 "metadata": {
  "kernelspec": {
   "display_name": "Python 3 (ipykernel)",
   "language": "python",
   "name": "python3"
  },
  "language_info": {
   "codemirror_mode": {
    "name": "ipython",
    "version": 3
   },
   "file_extension": ".py",
   "mimetype": "text/x-python",
   "name": "python",
   "nbconvert_exporter": "python",
   "pygments_lexer": "ipython3",
   "version": "3.9.12"
  }
 },
 "nbformat": 4,
 "nbformat_minor": 5
}

{
 "cells": [
  {
   "cell_type": "markdown",
   "id": "60dbc097-bf9a-4403-a923-842c81bdfcde",
   "metadata": {},
   "source": [
    "## Imports"
   ]
  },
  {
   "cell_type": "code",
   "execution_count": null,
   "id": "5b209e3c-44ee-423b-9b2d-2076e29f6f75",
   "metadata": {},
   "outputs": [],
   "source": [
    "import os\n",
    "\n",
    "from asos import settings\n",
    "\n",
    "%load_ext autoreload\n",
    "%autoreload 2"
   ]
  },
  {
   "cell_type": "code",
   "execution_count": null,
   "id": "8d9e9e22-aab0-4c1a-9b40-3c867ba9f0b8",
   "metadata": {},
   "outputs": [],
   "source": [
    "file_infos = settings.load_file_infos()"
   ]
  },
  {
   "cell_type": "markdown",
   "id": "43bc2684-47ee-4e08-ba93-88ba06d495e0",
   "metadata": {},
   "source": [
    "## Change Directories\n",
    "\n",
    "If you have moved your data to another directory, you need to update the directory in the file_infos.csv file. This can be done with the following cells:"
   ]
  },
  {
   "cell_type": "code",
   "execution_count": null,
   "id": "24381a04",
   "metadata": {},
   "outputs": [],
   "source": [
    "file_infos.folder = settings.data_folder_tiles\n",
    "\n",
    "file_infos.update_dir()\n",
    "file_infos.df"
   ]
  },
  {
   "cell_type": "code",
   "execution_count": null,
   "id": "86f5d34b-778c-48f2-9ea7-cdd8f8bba39b",
   "metadata": {},
   "outputs": [],
   "source": [
    "file_infos.save_csv"
   ]
  },
  {
   "cell_type": "code",
   "execution_count": null,
   "id": "fe7a93f9-c5d0-48e1-aac1-a1e0829b188e",
   "metadata": {},
   "outputs": [],
   "source": []
  }
 ],
 "metadata": {
  "kernelspec": {
   "display_name": "Python 3 (ipykernel)",
   "language": "python",
   "name": "python3"
  },
  "language_info": {
   "codemirror_mode": {
    "name": "ipython",
    "version": 3
   },
   "file_extension": ".py",
   "mimetype": "text/x-python",
   "name": "python",
   "nbconvert_exporter": "python",
   "pygments_lexer": "ipython3",
   "version": "3.9.12"
  }
 },
 "nbformat": 4,
 "nbformat_minor": 5
}

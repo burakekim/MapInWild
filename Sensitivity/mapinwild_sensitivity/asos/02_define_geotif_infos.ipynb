{
 "cells": [
  {
   "cell_type": "markdown",
   "metadata": {},
   "source": [
    "# Geotif Infos\n",
    "## Imports"
   ]
  },
  {
   "cell_type": "code",
   "execution_count": null,
   "metadata": {},
   "outputs": [],
   "source": [
    "import os\n",
    "\n",
    "import numpy as np\n",
    "import pandas as pd\n",
    "from tqdm.auto import tqdm\n",
    "\n",
    "from asos import settings\n",
    "\n",
    "%load_ext autoreload\n",
    "%autoreload 2"
   ]
  },
  {
   "cell_type": "markdown",
   "metadata": {},
   "source": [
    "## Get Files"
   ]
  },
  {
   "cell_type": "code",
   "execution_count": null,
   "metadata": {},
   "outputs": [],
   "source": [
    "csv = settings.load_file_infos(only_subset=False)\n",
    "print(len(csv.df))\n",
    "\n",
    "#csv.df = csv.df[csv.df.index.str.contains('s2_summer')]\n",
    "csv.save_csv()\n",
    "csv.df"
   ]
  },
  {
   "cell_type": "markdown",
   "metadata": {},
   "source": [
    "## Centroids"
   ]
  },
  {
   "cell_type": "code",
   "execution_count": null,
   "metadata": {},
   "outputs": [],
   "source": [
    "# centroids\n",
    "csv.get_centroids()"
   ]
  },
  {
   "cell_type": "markdown",
   "metadata": {},
   "source": [
    "## Area ID"
   ]
  },
  {
   "cell_type": "code",
   "execution_count": null,
   "metadata": {},
   "outputs": [],
   "source": [
    "# area id\n",
    "csv.df['area_id'] = csv.df.index.str.split('/').str[-1].str.split('_').str[:-1].str.join('_')\n",
    "csv.save_csv()\n",
    "\n",
    "csv.df"
   ]
  },
  {
   "cell_type": "markdown",
   "metadata": {},
   "source": [
    "## Season"
   ]
  },
  {
   "cell_type": "code",
   "execution_count": null,
   "metadata": {},
   "outputs": [],
   "source": [
    "# season\n",
    "csv.df['season'] = csv.df.index.str.split('/').str[1].str.split('_').str[-1]\n",
    "csv.save_csv()\n",
    "\n",
    "csv.df"
   ]
  },
  {
   "cell_type": "markdown",
   "metadata": {},
   "source": [
    "## Category"
   ]
  },
  {
   "cell_type": "code",
   "execution_count": null,
   "metadata": {},
   "outputs": [],
   "source": [
    "# category\n",
    "csv.df['category'] = csv.df.index.str.split('/').str[0]\n",
    "csv.save_csv()\n",
    "\n",
    "csv.plot_column('category')"
   ]
  },
  {
   "cell_type": "markdown",
   "metadata": {},
   "source": [
    "## Labels"
   ]
  },
  {
   "cell_type": "code",
   "execution_count": null,
   "metadata": {},
   "outputs": [],
   "source": [
    "# anthropo tiles have label 0\n",
    "csv.df.loc[csv.df['category'] == 'False', 'label'] = int(0)\n",
    "\n",
    "# wdpa tiles of categories Ia, Ib and II have label 1\n",
    "csv.df.loc[csv.df['category'] == 'True', 'label'] = int(1)\n",
    "\n",
    "csv.save_csv()\n",
    "\n",
    "csv.plot_column('label')"
   ]
  },
  {
   "cell_type": "markdown",
   "metadata": {},
   "source": [
    "## Quality Score, Single Temporal Subset, Datasplit"
   ]
  },
  {
   "cell_type": "markdown",
   "metadata": {},
   "source": [
    "### Quality Score"
   ]
  },
  {
   "cell_type": "code",
   "execution_count": null,
   "metadata": {},
   "outputs": [],
   "source": [
    "# read original quality score file\n",
    "df_quality = pd.read_csv(os.path.join(settings.infos_folder, 'quality_scores.csv')).set_index('imagePath')\n",
    "\n",
    "# rename columns\n",
    "df_quality = df_quality.rename(columns={'Autumn_SCORE': 'autumn', 'Spring_SCORE': 'spring', 'Summer_SCORE': 'summer', 'Winter_SCORE': 'winter'})\n",
    "df_quality = df_quality.rename(columns={'spring': 'qs_spring', 'winter': 'qs_winter', 'summer': 'qs_summer', 'autumn': 'qs_autumn'})\n",
    "df_quality"
   ]
  },
  {
   "cell_type": "markdown",
   "metadata": {},
   "source": [
    "### Single Temporal Subset"
   ]
  },
  {
   "cell_type": "code",
   "execution_count": null,
   "metadata": {},
   "outputs": [],
   "source": [
    "# read original single temporal subset file\n",
    "df_subset = pd.read_csv(os.path.join(settings.infos_folder, 'single_temporal_subset.csv')).set_index('imagePath')\n",
    "\n",
    "# rename columns and entries\n",
    "df_subset = df_subset.rename(columns={'single_temporal_subset': 'season'})\n",
    "df_subset['season'] = df_subset['season'].replace({'Autumn': 'autumn', 'Spring': 'spring', 'Summer': 'summer', 'Winter': 'winter'})\n",
    "\n",
    "df_subset"
   ]
  },
  {
   "cell_type": "markdown",
   "metadata": {},
   "source": [
    "### Datasplit"
   ]
  },
  {
   "cell_type": "code",
   "execution_count": null,
   "metadata": {},
   "outputs": [],
   "source": [
    "# read original datasplit file\n",
    "df_dataset = pd.read_csv(os.path.join(settings.infos_folder, 'split_IDs.csv'))#.set_index('imagePath')\n",
    "\n",
    "# make lists\n",
    "indices_train = df_dataset['train'].values\n",
    "indices_val = df_dataset['validation'].values\n",
    "indices_test = df_dataset['test'].values\n",
    "\n",
    "# remove nan values and convert to int\n",
    "indices_train = [int(index) for index in indices_train if ~np.isnan(index)]\n",
    "indices_val = [int(index) for index in indices_val if ~np.isnan(index)]\n",
    "indices_test = [int(index) for index in indices_test if ~np.isnan(index)]\n",
    "\n",
    "# convert to df\n",
    "df_train = pd.DataFrame({'index': indices_train, 'dataset': 'train'}).set_index('index')\n",
    "df_val = pd.DataFrame({'index': indices_val, 'dataset': 'val'}).set_index('index')\n",
    "df_test = pd.DataFrame({'index': indices_test, 'dataset': 'test'}).set_index('index')\n",
    "\n",
    "df_dataset = pd.concat([df_train, df_val, df_test])\n",
    "\n",
    "df_dataset"
   ]
  },
  {
   "cell_type": "markdown",
   "metadata": {},
   "source": [
    "## Combine dataframes"
   ]
  },
  {
   "cell_type": "code",
   "execution_count": null,
   "metadata": {},
   "outputs": [],
   "source": [
    "df_params = pd.concat([df_quality, df_subset, df_dataset], axis=1)\n",
    "df_params"
   ]
  },
  {
   "cell_type": "markdown",
   "metadata": {},
   "source": [
    "### Add to CSV Dataframe"
   ]
  },
  {
   "cell_type": "code",
   "execution_count": null,
   "metadata": {},
   "outputs": [],
   "source": [
    "csv.df['quality'] = None\n",
    "csv.df['subset'] = None\n",
    "csv.df['dataset'] = None\n",
    "\n",
    "# very unefficient due to for-loop\n",
    "for index, row in tqdm(csv.df.iterrows(), total=len(csv.df)):\n",
    "    area_id = int(row['area_id'])\n",
    "    season = row['season']\n",
    "    \n",
    "    # get quality score, single temporal subset and dataset\n",
    "    quality = df_params[df_params.index == area_id]['qs_' + season].values[0]\n",
    "    subset = df_params[df_params.index == area_id]['season'].values[0] == season\n",
    "    dataset = df_params[df_params.index == area_id]['dataset'].values[0]\n",
    "\n",
    "    # write into df\n",
    "    csv.df.loc[csv.df.index == index, 'quality'] = quality\n",
    "    csv.df.loc[csv.df.index == index, 'subset'] = subset    \n",
    "    csv.df.loc[csv.df.index == index, 'dataset'] = dataset\n",
    "\n",
    "csv.save_csv()\n",
    "\n",
    "csv.df"
   ]
  },
  {
   "cell_type": "code",
   "execution_count": null,
   "metadata": {},
   "outputs": [],
   "source": [
    "csv.plot_column('dataset')"
   ]
  },
  {
   "cell_type": "code",
   "execution_count": null,
   "metadata": {},
   "outputs": [],
   "source": []
  }
 ],
 "metadata": {
  "kernelspec": {
   "display_name": "Python 3 (ipykernel)",
   "language": "python",
   "name": "python3"
  },
  "language_info": {
   "codemirror_mode": {
    "name": "ipython",
    "version": 3
   },
   "file_extension": ".py",
   "mimetype": "text/x-python",
   "name": "python",
   "nbconvert_exporter": "python",
   "pygments_lexer": "ipython3",
   "version": "3.9.12"
  }
 },
 "nbformat": 4,
 "nbformat_minor": 4
}

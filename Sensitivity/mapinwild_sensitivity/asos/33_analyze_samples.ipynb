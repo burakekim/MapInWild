{
 "cells": [
  {
   "cell_type": "markdown",
   "id": "d4c1d358-0e70-49cb-b780-54345d86ee0f",
   "metadata": {},
   "source": [
    "# Analyze Samples\n",
    "## Imports"
   ]
  },
  {
   "cell_type": "code",
   "execution_count": null,
   "id": "da168581",
   "metadata": {},
   "outputs": [],
   "source": [
    "import os\n",
    "import random\n",
    "\n",
    "from tlib import tlearn, tgeo, tutils\n",
    "from asos import settings, utils\n",
    "\n",
    "%load_ext autoreload\n",
    "%autoreload 2"
   ]
  },
  {
   "cell_type": "markdown",
   "id": "d8b14243-ce82-420b-9212-983179d0d702",
   "metadata": {},
   "source": [
    "## Setup Files and Plotter"
   ]
  },
  {
   "cell_type": "code",
   "execution_count": null,
   "id": "3268908d-be1b-4c24-ab4e-86ced5ed4ea8",
   "metadata": {},
   "outputs": [],
   "source": [
    "channel_indices = {'B2': 0, 'B3': 1, 'B4': 2, 'B5': 3, 'B6': 4, 'B7': 5, 'B8': 6, 'B8A': 7, 'B11': 8, 'B12': 9}"
   ]
  },
  {
   "cell_type": "markdown",
   "id": "ec57814c-1d2e-42f6-a00f-7dbb6b3bb519",
   "metadata": {},
   "source": [
    "either files from dataset(s)..."
   ]
  },
  {
   "cell_type": "code",
   "execution_count": null,
   "id": "46d2bc36-21b7-442c-a15a-21129d33e42c",
   "metadata": {},
   "outputs": [],
   "source": [
    "# files from dataset\n",
    "datasets = ['test']\n",
    "\n",
    "# get files from given dataset\n",
    "csv = settings.load_file_infos()\n",
    "file_infos = csv.df\n",
    "file_infos = file_infos[file_infos['dataset'].isin(datasets)]\n",
    "print(f'# files: {len(file_infos)}')\n",
    "files = file_infos.index\n",
    "\n",
    "# edit file names\n",
    "files = list(files)\n",
    "files = ['/'.join(file.split('/')[1:]) for file in files]  # remove True / False folder in the beginning\n",
    "files = ['_'.join(file.split('_')[:-1]) + '.tif' for file in files]  # remove tile number in the end\n",
    "print(len(files))\n",
    "files = list(set(files))  # remove doubles\n",
    "print(f'# files: {len(files)}')\n",
    "files = [os.path.join(settings.data_folder_raw, file) for file in files]  # add file directory in front of files\n",
    "\n",
    "nearby_files_possible = True  # only if file_infos is available\n",
    "plot_predictions = False  # only if file_infos is available\n",
    "batch_size = 1\n",
    "\n",
    "# setup s2 plotter\n",
    "s2_plotter = tgeo.s2.Plotter(folder_s2=settings.data_folder_raw, channel_indices=channel_indices)\n",
    "s2_plotter.get_masks_dir = lambda file: os.path.join(os.path.join(settings.data_folder_raw, 'mask'), file.split('/')[-1])\n",
    "\n",
    "# setup asos plotter\n",
    "asos_plotter = utils.Plotter(folder=settings.data_folder_tiles_main)"
   ]
  },
  {
   "cell_type": "markdown",
   "id": "92e6d5dd-0620-4433-a434-075ff665566f",
   "metadata": {},
   "source": [
    "... or specific file(s):"
   ]
  },
  {
   "cell_type": "code",
   "execution_count": null,
   "id": "8220efd9-977c-44fd-bed9-1874beaeaa89",
   "metadata": {},
   "outputs": [],
   "source": [
    "# specific file\n",
    "\n",
    "#folder = settings.data_folder_tiles_main\n",
    "folder = os.path.join(settings.data_folder_raw, 's2_summer')\n",
    "\n",
    "regex_filter = '.tif'  # e.g. '.tif'\n",
    "smaller_than = 1000  # MB (up to 1000)\n",
    "\n",
    "\n",
    "# get files from given folder and regex_filter\n",
    "files = tutils.files.files_from_folder(folder, regex_filter=regex_filter, whole_path=True)\n",
    "print(f'# files: {len(files)}')\n",
    "# only files smaller than...\n",
    "files = [file for file in files if os.path.getsize(file)/1000/1000 < smaller_than]\n",
    "print(f'# files smaller than given size: {len(files)}')\n",
    "\n",
    "nearby_files_possible = False  # only if file_infos is available\n",
    "plot_predictions = False  # only if file_infos is available\n",
    "batch_size = 1  # since sizes can be different\n",
    "\n",
    "# setup plotter\n",
    "s2_plotter = tgeo.s2.Plotter(folder_s2=folder, channel_indices=channel_indices)\n",
    "asos_plotter = utils.Plotter(folder=folder)"
   ]
  },
  {
   "cell_type": "code",
   "execution_count": null,
   "id": "d2630e64-003e-4c58-b939-8636b1bf81c1",
   "metadata": {},
   "outputs": [],
   "source": [
    "files = files[:2]"
   ]
  },
  {
   "cell_type": "markdown",
   "id": "7d503c9b-9228-4b7f-868e-02ab5afb2527",
   "metadata": {},
   "source": [
    "## Plot Sample"
   ]
  },
  {
   "cell_type": "code",
   "execution_count": null,
   "id": "23f67e17-a5ee-4de1-9bea-e579772db070",
   "metadata": {},
   "outputs": [],
   "source": [
    "# get random sample from given dataset\n",
    "index = random.sample(range(len(files)), 1)[0]\n",
    "file = files[index]\n",
    "#print(f'label: {int(file_infos[file_infos.index == file][\"label\"])}')\n",
    "#print(f'pred:  {int(file_infos[file_infos.index == file][\"pred\"])}')\n",
    "\n",
    "# plotter\n",
    "s2_plotter.plot(\n",
    "    file,\n",
    "\n",
    "    plot_s2=True,\n",
    "    #plot_s2_channels=True,\n",
    "    #plot_masks=True,\n",
    ")\n",
    "\n",
    "asos_plotter.plot(\n",
    "    file,\n",
    "    \n",
    "    plot_unet_maps=True,\n",
    "    #plot_all_unet_maps=True,\n",
    "    plot_sensitivities=True,\n",
    "    #plot_osm=True,\n",
    "    \n",
    "    #fig_height=4.6,\n",
    ")"
   ]
  },
  {
   "cell_type": "markdown",
   "id": "6c02d779-2a7b-4552-aa6b-4f019cd98838",
   "metadata": {},
   "source": [
    "## All Files to RGB Tiff\n",
    "Note: If you do not have a trained model, yet, you can ignore some of the plot_kwargs! To plot them, you need to predict the image."
   ]
  },
  {
   "cell_type": "code",
   "execution_count": null,
   "id": "9ce9fc0b-5139-428f-b864-acf503cc78a8",
   "metadata": {},
   "outputs": [],
   "source": [
    "output_folder = os.path.join(settings.working_folder, 'rgbs')"
   ]
  },
  {
   "cell_type": "code",
   "execution_count": null,
   "id": "b71e8071-9681-4616-b75c-0590546449f1",
   "metadata": {},
   "outputs": [],
   "source": [
    "# plotter\n",
    "s2_plotter.val_range_s2 = (0, 2**10.5)\n",
    "s2_plotter.to_tif(\n",
    "    *files,\n",
    "    output_folder=output_folder,\n",
    "    \n",
    "    plot_rgb=True,\n",
    "    plot_false_colors=True,\n",
    "    #plot_channels=['B6'],\n",
    "    plot_ndvi=True,\n",
    "    plot_evi=True,\n",
    "    plot_masks=['BB'],\n",
    ")\n",
    "\n",
    "asos_plotter.to_tif(\n",
    "    *files,\n",
    "    output_folder=output_folder,\n",
    "    \n",
    "    plot_unet_maps=True,\n",
    "    #plot_all_unet_maps=True,\n",
    "    plot_sensitivities=True,\n",
    "    #plot_osms=True,\n",
    "\n",
    "    batch_size=batch_size,\n",
    ")"
   ]
  },
  {
   "cell_type": "markdown",
   "id": "d8d2088d-17e9-4783-8e1c-ab83dffa7c14",
   "metadata": {},
   "source": [
    "## Create KML File"
   ]
  },
  {
   "cell_type": "code",
   "execution_count": null,
   "id": "922910fa-31e5-4936-ab7b-a1eb4268554f",
   "metadata": {},
   "outputs": [],
   "source": [
    "if plot_predictions:\n",
    "    kml = csv.preds_to_kml(files=file_infos.index)\n",
    "else:\n",
    "    kml = None\n",
    "\n",
    "# add white background\n",
    "#kml = tgeo.kml.background_to_kml(output_dir=output_folder, kml=kml)\n",
    "\n",
    "kml = s2_plotter.tif_to_kml(main_folder=output_folder, kml=kml)"
   ]
  },
  {
   "cell_type": "markdown",
   "id": "e315a1dc-6823-4996-af1b-017e68e44171",
   "metadata": {},
   "source": [
    "## Sample in Activation Space"
   ]
  },
  {
   "cell_type": "code",
   "execution_count": null,
   "id": "89bd9cc9-9b66-413e-8482-c4edf6300ffa",
   "metadata": {},
   "outputs": [],
   "source": [
    "asos = utils.load_asos()\n",
    "files"
   ]
  },
  {
   "cell_type": "code",
   "execution_count": null,
   "id": "ec10c459-dac6-4ad6-8d68-53fcaee8ad42",
   "metadata": {},
   "outputs": [],
   "source": [
    "index = 0\n",
    "unet_map = utils.predict(files[index])\n",
    "vectors = tlearn.interpret.chspace.vectorize(array=unet_map, axis=1, random_frac=0.01)\n",
    "asos.plot_chspace(vectors=vectors, colors='rgb', plotly=True)\n",
    "print()"
   ]
  },
  {
   "cell_type": "code",
   "execution_count": null,
   "id": "71a9a4eb-8f8b-4413-86c1-8b130cec57f6",
   "metadata": {},
   "outputs": [],
   "source": []
  }
 ],
 "metadata": {
  "kernelspec": {
   "display_name": "Python 3 (ipykernel)",
   "language": "python",
   "name": "python3"
  },
  "language_info": {
   "codemirror_mode": {
    "name": "ipython",
    "version": 3
   },
   "file_extension": ".py",
   "mimetype": "text/x-python",
   "name": "python",
   "nbconvert_exporter": "python",
   "pygments_lexer": "ipython3",
   "version": "3.9.12"
  }
 },
 "nbformat": 4,
 "nbformat_minor": 5
}

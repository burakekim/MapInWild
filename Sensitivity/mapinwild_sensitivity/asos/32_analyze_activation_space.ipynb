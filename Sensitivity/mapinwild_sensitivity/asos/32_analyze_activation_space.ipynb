{
 "cells": [
  {
   "cell_type": "markdown",
   "metadata": {},
   "source": [
    "# Analyze Activation Space\n",
    "## Imports"
   ]
  },
  {
   "cell_type": "code",
   "execution_count": null,
   "metadata": {},
   "outputs": [],
   "source": [
    "import os\n",
    "\n",
    "import numpy as np\n",
    "import matplotlib.pyplot as plt\n",
    "import rasterio\n",
    "from tqdm.auto import tqdm\n",
    "\n",
    "from tlib import tgeo\n",
    "from asos import settings, utils\n",
    "\n",
    "%load_ext autoreload\n",
    "%autoreload 2"
   ]
  },
  {
   "cell_type": "code",
   "execution_count": null,
   "metadata": {},
   "outputs": [],
   "source": [
    "asos = utils.load_asos()\n",
    "files = [os.path.join(settings.data_folder_tiles_main, file) for file in asos.map_ids]"
   ]
  },
  {
   "cell_type": "code",
   "execution_count": null,
   "metadata": {},
   "outputs": [],
   "source": [
    "# settings for plots\n",
    "\n",
    "use_plotly = True  # only necessary if 3 dims; if False, matplotlib is used\n",
    "\n",
    "if asos.dims == 1:\n",
    "    plot_kwargs = {}\n",
    "    use_plotly = False\n",
    "elif asos.dims == 2:\n",
    "    plot_kwargs = {'s': 0.01}\n",
    "    use_plotly = False  # needs to be False for 2 dims\n",
    "elif asos.dims == 3:\n",
    "    s = 5 if use_plotly else 1"
   ]
  },
  {
   "cell_type": "code",
   "execution_count": null,
   "metadata": {},
   "outputs": [],
   "source": [
    "# if you changed the working_folder, you need to change it here again with:\n",
    "# asos.output_folder = settings.working_folder"
   ]
  },
  {
   "cell_type": "markdown",
   "metadata": {},
   "source": [
    "## Vectorization"
   ]
  },
  {
   "cell_type": "code",
   "execution_count": null,
   "metadata": {},
   "outputs": [],
   "source": [
    "%matplotlib inline\n",
    "# 2D with matplotlib\n",
    "if asos.dims in [1, 2]:\n",
    "    asos.plot_chspace(**plot_kwargs)\n",
    "    plt.show()\n",
    "\n",
    "# 3D with plotly\n",
    "elif asos.dims == 3 and use_plotly:\n",
    "    fig = asos.plot_chspace(colors='rgb', s=s, plotly=True)"
   ]
  },
  {
   "cell_type": "code",
   "execution_count": null,
   "metadata": {},
   "outputs": [],
   "source": [
    "%matplotlib widget\n",
    "# 3D with matplotlib\n",
    "if asos.dims == 3 and not use_plotly:\n",
    "    asos.plot_chspace(colors='rgb', s=s)\n",
    "    plt.show()"
   ]
  },
  {
   "cell_type": "markdown",
   "metadata": {},
   "source": [
    "## Grouping"
   ]
  },
  {
   "cell_type": "code",
   "execution_count": null,
   "metadata": {},
   "outputs": [],
   "source": [
    "%matplotlib inline\n",
    "# 2D with matplotlib\n",
    "if asos.dims in [1, 2]:\n",
    "    asos.plot_chspace(colors='groups', **plot_kwargs)\n",
    "    plt.show()\n",
    "\n",
    "# 3D with plotly\n",
    "elif asos.dims == 3 and use_plotly:\n",
    "    asos.plot_chspace(colors='groups', s=s, plotly=True)"
   ]
  },
  {
   "cell_type": "code",
   "execution_count": null,
   "metadata": {},
   "outputs": [],
   "source": [
    "%matplotlib widget\n",
    "# 3D with matplotlib\n",
    "if asos.dims == 3 and not use_plotly:\n",
    "    asos.plot_chspace(colors='groups', s=s)\n",
    "    plt.show()"
   ]
  },
  {
   "cell_type": "markdown",
   "metadata": {},
   "source": [
    "## Sensitivities"
   ]
  },
  {
   "cell_type": "code",
   "execution_count": null,
   "metadata": {},
   "outputs": [],
   "source": [
    "%matplotlib inline\n",
    "# 2D with matplotlib\n",
    "if asos.dims in [1, 2]:\n",
    "    asos.plot_chspace(colors='sensitivities', **plot_kwargs)\n",
    "    plt.show()\n",
    "\n",
    "# 3D with plotly\n",
    "elif asos.dims == 3 and use_plotly:\n",
    "    asos.plot_chspace(colors='sensitivities', s=s, plotly=True)"
   ]
  },
  {
   "cell_type": "code",
   "execution_count": null,
   "metadata": {},
   "outputs": [],
   "source": [
    "%matplotlib widget\n",
    "# 3D with matplotlib\n",
    "if asos.dims == 3 and not use_plotly:\n",
    "    asos.plot_chspace(colors='sensitivities', s=s)\n",
    "    plt.show()"
   ]
  },
  {
   "cell_type": "code",
   "execution_count": null,
   "metadata": {},
   "outputs": [],
   "source": [
    "%matplotlib inline\n",
    "asos.plot_histograms()"
   ]
  },
  {
   "cell_type": "code",
   "execution_count": null,
   "metadata": {},
   "outputs": [],
   "source": [
    "#asos.adapt_valid_deviations(min_n_occluded_pixels=10)\n",
    "#asos.set_vlim(q=0.02)\n",
    "#asos.save()"
   ]
  },
  {
   "cell_type": "code",
   "execution_count": null,
   "metadata": {},
   "outputs": [],
   "source": [
    "%matplotlib inline\n",
    "# plot sample\n",
    "index = 100\n",
    "unet_map = utils.predict(files[index])\n",
    "sensitivity_map = asos.predict_sensitivities(unet_map)\n",
    "asos.plot_sensitivity_map(sensitivity_map[0])\n",
    "plt.show()"
   ]
  },
  {
   "cell_type": "code",
   "execution_count": null,
   "metadata": {},
   "outputs": [],
   "source": []
  }
 ],
 "metadata": {
  "kernelspec": {
   "display_name": "Python 3 (ipykernel)",
   "language": "python",
   "name": "python3"
  },
  "language_info": {
   "codemirror_mode": {
    "name": "ipython",
    "version": 3
   },
   "file_extension": ".py",
   "mimetype": "text/x-python",
   "name": "python",
   "nbconvert_exporter": "python",
   "pygments_lexer": "ipython3",
   "version": "3.9.12"
  }
 },
 "nbformat": 4,
 "nbformat_minor": 4
}
